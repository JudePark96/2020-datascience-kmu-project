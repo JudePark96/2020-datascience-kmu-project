{
 "cells": [
  {
   "cell_type": "markdown",
   "metadata": {},
   "source": [
    "# 20163108 소프트웨어학부 박은환\n",
    "## 학생 신체데이터 분석 (총 100 점)\n",
    "\n",
    "\n",
    "우리나라 학생들의 신체데이터를 다양한 방법으로 분석해보세요.\n",
    "우리나라 학생들의 신체데이터를 다음의 주소에서 다운로드 받을 수 있습니다.\n",
    "https://www.data.go.kr/data/15051017/fileData.do\n",
    "\n",
    "\n",
    "하나의 ipynb파일에 다음 Task들을 모두 수행하여 제출하세요.\n",
    "입력파일경로는 \"./p01_input.csv\"와 같이 설정하길 바랍니다.\n",
    "파일명은 \"p01_이름_학번.ipynb\"로 하여 제출하세요.\n",
    "\n",
    "\n",
    "#### Task 1. (20 점) csv 파일을 다운로드 받고 pandas를 이용하여 불러오기\n",
    "\n",
    "#### Task 1-1. (10 점) 데이터 불러오기\n",
    "\n",
    "#### Task 1-2. (10 점) 데이터 중에서 키와 몸무게 데이터만 골라내기\n",
    "\n",
    "#### Task 2. (10 점) 학생들의 평균 키와 평균 몸무게 구하기\n",
    "\n",
    "#### Task 3. (10 점) 키와 몸무게 사이의 상관관계 (Pearson Correlation Coefficient) 구하기\n",
    "\n",
    "#### Task 4. (40 점) Linear Regression을 사용하여 키와 몸무게 사이의 선형관계를 찾기 (= 직선의 방정식 구하기: y= wx + b 에서 w와 b값 구하기)\n",
    "\n",
    "#### Task 4-1. (10 점) 가설, 비용 설정하기\n",
    "\n",
    "#### Task 4-2. (20 점) 경사하강법으로 비용을 최소로 만들도록 학습하기 (torch.optim 사용하지 말고 직접 구현해보기)\n",
    "\n",
    "#### Task 5. (20 점) Matplotlib을 사용하여 좌표평면상에 입력값(키, 몸무게)과 구한 직선을 그려보기\n",
    "\n",
    "#### Task 5-1. (10 점) 입력값(키, 몸무게)를 산포도로 그리기 (x축=키, y축=몸무게)\n",
    "\n",
    "#### Task 5-2. (10 점) w와 b값을 이용하여 직선 그리기 (산포도와 일치하는지 확인하여 학습이 잘 되었는지 확인하기 위함)"
   ]
  },
  {
   "cell_type": "markdown",
   "metadata": {},
   "source": [
    "# Task 1. (20 점) csv 파일을 다운로드 받고 pandas를 이용하여 불러오기"
   ]
  },
  {
   "cell_type": "code",
   "execution_count": 419,
   "metadata": {},
   "outputs": [
    {
     "data": {
      "text/html": [
       "<div>\n",
       "<style scoped>\n",
       "    .dataframe tbody tr th:only-of-type {\n",
       "        vertical-align: middle;\n",
       "    }\n",
       "\n",
       "    .dataframe tbody tr th {\n",
       "        vertical-align: top;\n",
       "    }\n",
       "\n",
       "    .dataframe thead th {\n",
       "        text-align: right;\n",
       "    }\n",
       "</style>\n",
       "<table border=\"1\" class=\"dataframe\">\n",
       "  <thead>\n",
       "    <tr style=\"text-align: right;\">\n",
       "      <th></th>\n",
       "      <th>ID</th>\n",
       "      <th>최종가중치</th>\n",
       "      <th>학교ID</th>\n",
       "      <th>도시규모</th>\n",
       "      <th>도시규모별분석용</th>\n",
       "      <th>학년도</th>\n",
       "      <th>광역시도</th>\n",
       "      <th>시도별</th>\n",
       "      <th>학교급별</th>\n",
       "      <th>학교명</th>\n",
       "      <th>...</th>\n",
       "      <th>키</th>\n",
       "      <th>몸무게</th>\n",
       "      <th>혈당식전mgdl</th>\n",
       "      <th>총콜레스테롤mgdl</th>\n",
       "      <th>ASTUL</th>\n",
       "      <th>ALTUL</th>\n",
       "      <th>혈색소gdl</th>\n",
       "      <th>간염검사</th>\n",
       "      <th>수축기</th>\n",
       "      <th>이완기</th>\n",
       "    </tr>\n",
       "  </thead>\n",
       "  <tbody>\n",
       "    <tr>\n",
       "      <th>0</th>\n",
       "      <td>Aa011남10101</td>\n",
       "      <td>169.550665</td>\n",
       "      <td>Aa01</td>\n",
       "      <td>대도시/중소도시</td>\n",
       "      <td>특별/광역시</td>\n",
       "      <td>2015</td>\n",
       "      <td>서울</td>\n",
       "      <td>서울특별시교육청</td>\n",
       "      <td>1</td>\n",
       "      <td>서울대도초등학교</td>\n",
       "      <td>...</td>\n",
       "      <td>125.8</td>\n",
       "      <td>27.3</td>\n",
       "      <td>NaN</td>\n",
       "      <td>NaN</td>\n",
       "      <td>NaN</td>\n",
       "      <td>NaN</td>\n",
       "      <td>NaN</td>\n",
       "      <td>NaN</td>\n",
       "      <td>77.0</td>\n",
       "      <td>58.0</td>\n",
       "    </tr>\n",
       "    <tr>\n",
       "      <th>1</th>\n",
       "      <td>Aa011남10102</td>\n",
       "      <td>169.550665</td>\n",
       "      <td>Aa01</td>\n",
       "      <td>대도시/중소도시</td>\n",
       "      <td>특별/광역시</td>\n",
       "      <td>2015</td>\n",
       "      <td>서울</td>\n",
       "      <td>서울특별시교육청</td>\n",
       "      <td>1</td>\n",
       "      <td>서울대도초등학교</td>\n",
       "      <td>...</td>\n",
       "      <td>124.3</td>\n",
       "      <td>25.4</td>\n",
       "      <td>NaN</td>\n",
       "      <td>NaN</td>\n",
       "      <td>NaN</td>\n",
       "      <td>NaN</td>\n",
       "      <td>NaN</td>\n",
       "      <td>NaN</td>\n",
       "      <td>83.0</td>\n",
       "      <td>51.0</td>\n",
       "    </tr>\n",
       "    <tr>\n",
       "      <th>2</th>\n",
       "      <td>Aa011남10103</td>\n",
       "      <td>169.550665</td>\n",
       "      <td>Aa01</td>\n",
       "      <td>대도시/중소도시</td>\n",
       "      <td>특별/광역시</td>\n",
       "      <td>2015</td>\n",
       "      <td>서울</td>\n",
       "      <td>서울특별시교육청</td>\n",
       "      <td>1</td>\n",
       "      <td>서울대도초등학교</td>\n",
       "      <td>...</td>\n",
       "      <td>119.2</td>\n",
       "      <td>23.5</td>\n",
       "      <td>NaN</td>\n",
       "      <td>NaN</td>\n",
       "      <td>NaN</td>\n",
       "      <td>NaN</td>\n",
       "      <td>NaN</td>\n",
       "      <td>NaN</td>\n",
       "      <td>103.0</td>\n",
       "      <td>65.0</td>\n",
       "    </tr>\n",
       "    <tr>\n",
       "      <th>3</th>\n",
       "      <td>Aa011남10104</td>\n",
       "      <td>169.550665</td>\n",
       "      <td>Aa01</td>\n",
       "      <td>대도시/중소도시</td>\n",
       "      <td>특별/광역시</td>\n",
       "      <td>2015</td>\n",
       "      <td>서울</td>\n",
       "      <td>서울특별시교육청</td>\n",
       "      <td>1</td>\n",
       "      <td>서울대도초등학교</td>\n",
       "      <td>...</td>\n",
       "      <td>115.0</td>\n",
       "      <td>20.0</td>\n",
       "      <td>NaN</td>\n",
       "      <td>NaN</td>\n",
       "      <td>NaN</td>\n",
       "      <td>NaN</td>\n",
       "      <td>NaN</td>\n",
       "      <td>NaN</td>\n",
       "      <td>92.0</td>\n",
       "      <td>66.0</td>\n",
       "    </tr>\n",
       "    <tr>\n",
       "      <th>4</th>\n",
       "      <td>Aa011남10105</td>\n",
       "      <td>169.550665</td>\n",
       "      <td>Aa01</td>\n",
       "      <td>대도시/중소도시</td>\n",
       "      <td>특별/광역시</td>\n",
       "      <td>2015</td>\n",
       "      <td>서울</td>\n",
       "      <td>서울특별시교육청</td>\n",
       "      <td>1</td>\n",
       "      <td>서울대도초등학교</td>\n",
       "      <td>...</td>\n",
       "      <td>120.0</td>\n",
       "      <td>33.5</td>\n",
       "      <td>NaN</td>\n",
       "      <td>NaN</td>\n",
       "      <td>NaN</td>\n",
       "      <td>NaN</td>\n",
       "      <td>NaN</td>\n",
       "      <td>NaN</td>\n",
       "      <td>102.0</td>\n",
       "      <td>59.0</td>\n",
       "    </tr>\n",
       "  </tbody>\n",
       "</table>\n",
       "<p>5 rows × 25 columns</p>\n",
       "</div>"
      ],
      "text/plain": [
       "            ID       최종가중치  학교ID      도시규모 도시규모별분석용   학년도 광역시도       시도별  \\\n",
       "0  Aa011남10101  169.550665  Aa01  대도시/중소도시   특별/광역시  2015   서울  서울특별시교육청   \n",
       "1  Aa011남10102  169.550665  Aa01  대도시/중소도시   특별/광역시  2015   서울  서울특별시교육청   \n",
       "2  Aa011남10103  169.550665  Aa01  대도시/중소도시   특별/광역시  2015   서울  서울특별시교육청   \n",
       "3  Aa011남10104  169.550665  Aa01  대도시/중소도시   특별/광역시  2015   서울  서울특별시교육청   \n",
       "4  Aa011남10105  169.550665  Aa01  대도시/중소도시   특별/광역시  2015   서울  서울특별시교육청   \n",
       "\n",
       "   학교급별       학교명  ...      키   몸무게  혈당식전mgdl 총콜레스테롤mgdl ASTUL  ALTUL  혈색소gdl  \\\n",
       "0     1  서울대도초등학교  ...  125.8  27.3       NaN        NaN   NaN    NaN     NaN   \n",
       "1     1  서울대도초등학교  ...  124.3  25.4       NaN        NaN   NaN    NaN     NaN   \n",
       "2     1  서울대도초등학교  ...  119.2  23.5       NaN        NaN   NaN    NaN     NaN   \n",
       "3     1  서울대도초등학교  ...  115.0  20.0       NaN        NaN   NaN    NaN     NaN   \n",
       "4     1  서울대도초등학교  ...  120.0  33.5       NaN        NaN   NaN    NaN     NaN   \n",
       "\n",
       "   간염검사    수축기   이완기  \n",
       "0   NaN   77.0  58.0  \n",
       "1   NaN   83.0  51.0  \n",
       "2   NaN  103.0  65.0  \n",
       "3   NaN   92.0  66.0  \n",
       "4   NaN  102.0  59.0  \n",
       "\n",
       "[5 rows x 25 columns]"
      ]
     },
     "execution_count": 419,
     "metadata": {},
     "output_type": "execute_result"
    }
   ],
   "source": [
    "import pandas as pd\n",
    "\n",
    "df = pd.read_csv('./p01_input.csv', encoding='CP949')\n",
    "df.head()"
   ]
  },
  {
   "cell_type": "markdown",
   "metadata": {},
   "source": [
    "# Task 1-1. (10 점) 데이터 불러오기"
   ]
  },
  {
   "cell_type": "code",
   "execution_count": 420,
   "metadata": {},
   "outputs": [
    {
     "data": {
      "text/html": [
       "<div>\n",
       "<style scoped>\n",
       "    .dataframe tbody tr th:only-of-type {\n",
       "        vertical-align: middle;\n",
       "    }\n",
       "\n",
       "    .dataframe tbody tr th {\n",
       "        vertical-align: top;\n",
       "    }\n",
       "\n",
       "    .dataframe thead th {\n",
       "        text-align: right;\n",
       "    }\n",
       "</style>\n",
       "<table border=\"1\" class=\"dataframe\">\n",
       "  <thead>\n",
       "    <tr style=\"text-align: right;\">\n",
       "      <th></th>\n",
       "      <th>ID</th>\n",
       "      <th>최종가중치</th>\n",
       "      <th>학교ID</th>\n",
       "      <th>도시규모</th>\n",
       "      <th>도시규모별분석용</th>\n",
       "      <th>학년도</th>\n",
       "      <th>광역시도</th>\n",
       "      <th>시도별</th>\n",
       "      <th>학교급별</th>\n",
       "      <th>학교명</th>\n",
       "      <th>...</th>\n",
       "      <th>키</th>\n",
       "      <th>몸무게</th>\n",
       "      <th>혈당식전mgdl</th>\n",
       "      <th>총콜레스테롤mgdl</th>\n",
       "      <th>ASTUL</th>\n",
       "      <th>ALTUL</th>\n",
       "      <th>혈색소gdl</th>\n",
       "      <th>간염검사</th>\n",
       "      <th>수축기</th>\n",
       "      <th>이완기</th>\n",
       "    </tr>\n",
       "  </thead>\n",
       "  <tbody>\n",
       "    <tr>\n",
       "      <th>0</th>\n",
       "      <td>Aa011남10101</td>\n",
       "      <td>169.550665</td>\n",
       "      <td>Aa01</td>\n",
       "      <td>대도시/중소도시</td>\n",
       "      <td>특별/광역시</td>\n",
       "      <td>2015</td>\n",
       "      <td>서울</td>\n",
       "      <td>서울특별시교육청</td>\n",
       "      <td>1</td>\n",
       "      <td>서울대도초등학교</td>\n",
       "      <td>...</td>\n",
       "      <td>125.8</td>\n",
       "      <td>27.3</td>\n",
       "      <td>0.0</td>\n",
       "      <td>0.0</td>\n",
       "      <td>0.0</td>\n",
       "      <td>0.0</td>\n",
       "      <td>0.0</td>\n",
       "      <td>0</td>\n",
       "      <td>77.0</td>\n",
       "      <td>58.0</td>\n",
       "    </tr>\n",
       "    <tr>\n",
       "      <th>1</th>\n",
       "      <td>Aa011남10102</td>\n",
       "      <td>169.550665</td>\n",
       "      <td>Aa01</td>\n",
       "      <td>대도시/중소도시</td>\n",
       "      <td>특별/광역시</td>\n",
       "      <td>2015</td>\n",
       "      <td>서울</td>\n",
       "      <td>서울특별시교육청</td>\n",
       "      <td>1</td>\n",
       "      <td>서울대도초등학교</td>\n",
       "      <td>...</td>\n",
       "      <td>124.3</td>\n",
       "      <td>25.4</td>\n",
       "      <td>0.0</td>\n",
       "      <td>0.0</td>\n",
       "      <td>0.0</td>\n",
       "      <td>0.0</td>\n",
       "      <td>0.0</td>\n",
       "      <td>0</td>\n",
       "      <td>83.0</td>\n",
       "      <td>51.0</td>\n",
       "    </tr>\n",
       "    <tr>\n",
       "      <th>2</th>\n",
       "      <td>Aa011남10103</td>\n",
       "      <td>169.550665</td>\n",
       "      <td>Aa01</td>\n",
       "      <td>대도시/중소도시</td>\n",
       "      <td>특별/광역시</td>\n",
       "      <td>2015</td>\n",
       "      <td>서울</td>\n",
       "      <td>서울특별시교육청</td>\n",
       "      <td>1</td>\n",
       "      <td>서울대도초등학교</td>\n",
       "      <td>...</td>\n",
       "      <td>119.2</td>\n",
       "      <td>23.5</td>\n",
       "      <td>0.0</td>\n",
       "      <td>0.0</td>\n",
       "      <td>0.0</td>\n",
       "      <td>0.0</td>\n",
       "      <td>0.0</td>\n",
       "      <td>0</td>\n",
       "      <td>103.0</td>\n",
       "      <td>65.0</td>\n",
       "    </tr>\n",
       "    <tr>\n",
       "      <th>3</th>\n",
       "      <td>Aa011남10104</td>\n",
       "      <td>169.550665</td>\n",
       "      <td>Aa01</td>\n",
       "      <td>대도시/중소도시</td>\n",
       "      <td>특별/광역시</td>\n",
       "      <td>2015</td>\n",
       "      <td>서울</td>\n",
       "      <td>서울특별시교육청</td>\n",
       "      <td>1</td>\n",
       "      <td>서울대도초등학교</td>\n",
       "      <td>...</td>\n",
       "      <td>115.0</td>\n",
       "      <td>20.0</td>\n",
       "      <td>0.0</td>\n",
       "      <td>0.0</td>\n",
       "      <td>0.0</td>\n",
       "      <td>0.0</td>\n",
       "      <td>0.0</td>\n",
       "      <td>0</td>\n",
       "      <td>92.0</td>\n",
       "      <td>66.0</td>\n",
       "    </tr>\n",
       "    <tr>\n",
       "      <th>4</th>\n",
       "      <td>Aa011남10105</td>\n",
       "      <td>169.550665</td>\n",
       "      <td>Aa01</td>\n",
       "      <td>대도시/중소도시</td>\n",
       "      <td>특별/광역시</td>\n",
       "      <td>2015</td>\n",
       "      <td>서울</td>\n",
       "      <td>서울특별시교육청</td>\n",
       "      <td>1</td>\n",
       "      <td>서울대도초등학교</td>\n",
       "      <td>...</td>\n",
       "      <td>120.0</td>\n",
       "      <td>33.5</td>\n",
       "      <td>0.0</td>\n",
       "      <td>0.0</td>\n",
       "      <td>0.0</td>\n",
       "      <td>0.0</td>\n",
       "      <td>0.0</td>\n",
       "      <td>0</td>\n",
       "      <td>102.0</td>\n",
       "      <td>59.0</td>\n",
       "    </tr>\n",
       "  </tbody>\n",
       "</table>\n",
       "<p>5 rows × 25 columns</p>\n",
       "</div>"
      ],
      "text/plain": [
       "            ID       최종가중치  학교ID      도시규모 도시규모별분석용   학년도 광역시도       시도별  \\\n",
       "0  Aa011남10101  169.550665  Aa01  대도시/중소도시   특별/광역시  2015   서울  서울특별시교육청   \n",
       "1  Aa011남10102  169.550665  Aa01  대도시/중소도시   특별/광역시  2015   서울  서울특별시교육청   \n",
       "2  Aa011남10103  169.550665  Aa01  대도시/중소도시   특별/광역시  2015   서울  서울특별시교육청   \n",
       "3  Aa011남10104  169.550665  Aa01  대도시/중소도시   특별/광역시  2015   서울  서울특별시교육청   \n",
       "4  Aa011남10105  169.550665  Aa01  대도시/중소도시   특별/광역시  2015   서울  서울특별시교육청   \n",
       "\n",
       "   학교급별       학교명  ...      키   몸무게  혈당식전mgdl 총콜레스테롤mgdl ASTUL  ALTUL  혈색소gdl  \\\n",
       "0     1  서울대도초등학교  ...  125.8  27.3       0.0        0.0   0.0    0.0     0.0   \n",
       "1     1  서울대도초등학교  ...  124.3  25.4       0.0        0.0   0.0    0.0     0.0   \n",
       "2     1  서울대도초등학교  ...  119.2  23.5       0.0        0.0   0.0    0.0     0.0   \n",
       "3     1  서울대도초등학교  ...  115.0  20.0       0.0        0.0   0.0    0.0     0.0   \n",
       "4     1  서울대도초등학교  ...  120.0  33.5       0.0        0.0   0.0    0.0     0.0   \n",
       "\n",
       "   간염검사    수축기   이완기  \n",
       "0     0   77.0  58.0  \n",
       "1     0   83.0  51.0  \n",
       "2     0  103.0  65.0  \n",
       "3     0   92.0  66.0  \n",
       "4     0  102.0  59.0  \n",
       "\n",
       "[5 rows x 25 columns]"
      ]
     },
     "execution_count": 420,
     "metadata": {},
     "output_type": "execute_result"
    }
   ],
   "source": [
    "# 결측값은 0으로 대체\n",
    "df = df.fillna(0)\n",
    "df.head(5)"
   ]
  },
  {
   "cell_type": "markdown",
   "metadata": {},
   "source": [
    "# Task 1-2. (10 점) 데이터 중에서 키와 몸무게 데이터만 골라내기"
   ]
  },
  {
   "cell_type": "code",
   "execution_count": 421,
   "metadata": {},
   "outputs": [],
   "source": [
    "df = pd.concat([df['키'], df['몸무게']], axis=1)"
   ]
  },
  {
   "cell_type": "code",
   "execution_count": 424,
   "metadata": {},
   "outputs": [
    {
     "data": {
      "text/html": [
       "<div>\n",
       "<style scoped>\n",
       "    .dataframe tbody tr th:only-of-type {\n",
       "        vertical-align: middle;\n",
       "    }\n",
       "\n",
       "    .dataframe tbody tr th {\n",
       "        vertical-align: top;\n",
       "    }\n",
       "\n",
       "    .dataframe thead th {\n",
       "        text-align: right;\n",
       "    }\n",
       "</style>\n",
       "<table border=\"1\" class=\"dataframe\">\n",
       "  <thead>\n",
       "    <tr style=\"text-align: right;\">\n",
       "      <th></th>\n",
       "      <th>키</th>\n",
       "      <th>몸무게</th>\n",
       "    </tr>\n",
       "  </thead>\n",
       "  <tbody>\n",
       "    <tr>\n",
       "      <th>0</th>\n",
       "      <td>125.8</td>\n",
       "      <td>27.3</td>\n",
       "    </tr>\n",
       "    <tr>\n",
       "      <th>1</th>\n",
       "      <td>124.3</td>\n",
       "      <td>25.4</td>\n",
       "    </tr>\n",
       "    <tr>\n",
       "      <th>2</th>\n",
       "      <td>119.2</td>\n",
       "      <td>23.5</td>\n",
       "    </tr>\n",
       "    <tr>\n",
       "      <th>3</th>\n",
       "      <td>115.0</td>\n",
       "      <td>20.0</td>\n",
       "    </tr>\n",
       "    <tr>\n",
       "      <th>4</th>\n",
       "      <td>120.0</td>\n",
       "      <td>33.5</td>\n",
       "    </tr>\n",
       "  </tbody>\n",
       "</table>\n",
       "</div>"
      ],
      "text/plain": [
       "       키   몸무게\n",
       "0  125.8  27.3\n",
       "1  124.3  25.4\n",
       "2  119.2  23.5\n",
       "3  115.0  20.0\n",
       "4  120.0  33.5"
      ]
     },
     "execution_count": 424,
     "metadata": {},
     "output_type": "execute_result"
    }
   ],
   "source": [
    "df.head()"
   ]
  },
  {
   "cell_type": "markdown",
   "metadata": {},
   "source": [
    "# Task 2. (10 점) 학생들의 평균 키와 평균 몸무게 구하기"
   ]
  },
  {
   "cell_type": "code",
   "execution_count": 425,
   "metadata": {},
   "outputs": [
    {
     "data": {
      "text/plain": [
       "키      154.564444\n",
       "몸무게     50.186857\n",
       "dtype: float64"
      ]
     },
     "execution_count": 425,
     "metadata": {},
     "output_type": "execute_result"
    }
   ],
   "source": [
    "df.mean()"
   ]
  },
  {
   "cell_type": "markdown",
   "metadata": {},
   "source": [
    "# Task 3. (10 점) 키와 몸무게 사이의 상관관계 (Pearson Correlation Coefficient) 구하기"
   ]
  },
  {
   "cell_type": "code",
   "execution_count": 426,
   "metadata": {},
   "outputs": [],
   "source": [
    "def pearson_similarity(u1, u2):\n",
    "    u1_c = u1 - u1.mean()\n",
    "    u2_c = u2 - u2.mean()\n",
    "    denom = np.sqrt(np.sum(u1_c ** 2) * np.sum(u2_c ** 2))\n",
    "    if denom != 0:\n",
    "        return np.sum(u1_c * u2_c)/denom\n",
    "    else:\n",
    "        return 0"
   ]
  },
  {
   "cell_type": "code",
   "execution_count": 427,
   "metadata": {},
   "outputs": [
    {
     "data": {
      "text/html": [
       "<div>\n",
       "<style scoped>\n",
       "    .dataframe tbody tr th:only-of-type {\n",
       "        vertical-align: middle;\n",
       "    }\n",
       "\n",
       "    .dataframe tbody tr th {\n",
       "        vertical-align: top;\n",
       "    }\n",
       "\n",
       "    .dataframe thead th {\n",
       "        text-align: right;\n",
       "    }\n",
       "</style>\n",
       "<table border=\"1\" class=\"dataframe\">\n",
       "  <thead>\n",
       "    <tr style=\"text-align: right;\">\n",
       "      <th></th>\n",
       "      <th>키</th>\n",
       "      <th>몸무게</th>\n",
       "    </tr>\n",
       "  </thead>\n",
       "  <tbody>\n",
       "    <tr>\n",
       "      <th>키</th>\n",
       "      <td>1.00000</td>\n",
       "      <td>0.84753</td>\n",
       "    </tr>\n",
       "    <tr>\n",
       "      <th>몸무게</th>\n",
       "      <td>0.84753</td>\n",
       "      <td>1.00000</td>\n",
       "    </tr>\n",
       "  </tbody>\n",
       "</table>\n",
       "</div>"
      ],
      "text/plain": [
       "           키      몸무게\n",
       "키    1.00000  0.84753\n",
       "몸무게  0.84753  1.00000"
      ]
     },
     "execution_count": 427,
     "metadata": {},
     "output_type": "execute_result"
    }
   ],
   "source": [
    "# if you use pandas@dataframe, you can get correlation more easily.\n",
    "df.corr(method='pearson')"
   ]
  },
  {
   "cell_type": "code",
   "execution_count": 428,
   "metadata": {},
   "outputs": [
    {
     "data": {
      "text/plain": [
       "0.8475303837476896"
      ]
     },
     "execution_count": 428,
     "metadata": {},
     "output_type": "execute_result"
    }
   ],
   "source": [
    "pearson_similarity(df['키'], df['몸무게'])"
   ]
  },
  {
   "cell_type": "markdown",
   "metadata": {},
   "source": [
    "# Task 4. (40 점) Linear Regression을 사용하여 키와 몸무게 사이의 선형관계를 찾기 (= 직선의 방정식 구하기: y= wx + b 에서 w와 b값 구하기)\n",
    "\n",
    "## Task 4-1. (15 점) 가설, 비용 설정하기\n",
    "## Task 4-2. (25 점) 경사하강법으로 비용을 최소로 만들도록 학습하기 (torch.optim 사용하지 말고 직접 구현해보기)"
   ]
  },
  {
   "cell_type": "code",
   "execution_count": 447,
   "metadata": {},
   "outputs": [],
   "source": [
    "import torch\n",
    "import numpy as np\n",
    "from tqdm import tqdm"
   ]
  },
  {
   "cell_type": "code",
   "execution_count": 464,
   "metadata": {},
   "outputs": [],
   "source": [
    "x = torch.from_numpy(df['키'].to_numpy()).float().unsqueeze(dim=-1)\n",
    "y = torch.from_numpy(df['몸무게'].to_numpy()).float().unsqueeze(dim=-1)\n",
    "\n",
    "lr = 4e-5\n",
    "\n",
    "assert x.shape == y.shape"
   ]
  },
  {
   "cell_type": "code",
   "execution_count": 465,
   "metadata": {},
   "outputs": [],
   "source": [
    "# W = torch.zeros(1, 1, dtype=torch.float)\n",
    "# b = torch.zeros(1, 1, dtype=torch.float)\n",
    "\n",
    "W = torch.FloatTensor([[0.5292745232582092]])\n",
    "b = torch.FloatTensor([[-31.96857261657715]])"
   ]
  },
  {
   "cell_type": "code",
   "execution_count": 466,
   "metadata": {},
   "outputs": [
    {
     "name": "stderr",
     "output_type": "stream",
     "text": [
      "  0%|          | 672/500001 [00:00<02:37, 3177.81it/s]"
     ]
    },
    {
     "name": "stdout",
     "output_type": "stream",
     "text": [
      "epoch: 0, cost: 112.91313171386719, W: 0.5410673022270203, b: -31.968544006347656\n"
     ]
    },
    {
     "name": "stderr",
     "output_type": "stream",
     "text": [
      "  2%|▏         | 10629/500001 [00:02<02:02, 4003.79it/s]"
     ]
    },
    {
     "name": "stdout",
     "output_type": "stream",
     "text": [
      "epoch: 10000, cost: 111.4717025756836, W: 0.5383056402206421, b: -32.42758560180664\n"
     ]
    },
    {
     "name": "stderr",
     "output_type": "stream",
     "text": [
      "  4%|▍         | 20525/500001 [00:05<02:05, 3833.01it/s]"
     ]
    },
    {
     "name": "stdout",
     "output_type": "stream",
     "text": [
      "epoch: 20000, cost: 110.93543243408203, W: 0.5412319302558899, b: -32.88534927368164\n"
     ]
    },
    {
     "name": "stderr",
     "output_type": "stream",
     "text": [
      "  6%|▌         | 30614/500001 [00:07<01:59, 3933.73it/s]"
     ]
    },
    {
     "name": "stdout",
     "output_type": "stream",
     "text": [
      "epoch: 30000, cost: 110.4041519165039, W: 0.5441584587097168, b: -33.34311294555664\n"
     ]
    },
    {
     "name": "stderr",
     "output_type": "stream",
     "text": [
      "  8%|▊         | 40712/500001 [00:10<02:00, 3816.21it/s]"
     ]
    },
    {
     "name": "stdout",
     "output_type": "stream",
     "text": [
      "epoch: 40000, cost: 109.87786865234375, W: 0.5470846891403198, b: -33.80087661743164\n"
     ]
    },
    {
     "name": "stderr",
     "output_type": "stream",
     "text": [
      " 10%|█         | 50680/500001 [00:13<01:52, 3985.48it/s]"
     ]
    },
    {
     "name": "stdout",
     "output_type": "stream",
     "text": [
      "epoch: 50000, cost: 109.35655975341797, W: 0.5500110387802124, b: -34.25864028930664\n"
     ]
    },
    {
     "name": "stderr",
     "output_type": "stream",
     "text": [
      " 12%|█▏        | 60701/500001 [00:15<01:50, 3964.96it/s]"
     ]
    },
    {
     "name": "stdout",
     "output_type": "stream",
     "text": [
      "epoch: 60000, cost: 108.84024810791016, W: 0.5529374480247498, b: -34.71640396118164\n"
     ]
    },
    {
     "name": "stderr",
     "output_type": "stream",
     "text": [
      " 14%|█▍        | 70360/500001 [00:18<02:04, 3455.26it/s]"
     ]
    },
    {
     "name": "stdout",
     "output_type": "stream",
     "text": [
      "epoch: 70000, cost: 108.32891845703125, W: 0.5558637976646423, b: -35.17416763305664\n"
     ]
    },
    {
     "name": "stderr",
     "output_type": "stream",
     "text": [
      " 16%|█▌        | 80681/500001 [00:21<01:56, 3600.34it/s]"
     ]
    },
    {
     "name": "stdout",
     "output_type": "stream",
     "text": [
      "epoch: 80000, cost: 107.82259368896484, W: 0.5587900876998901, b: -35.63193130493164\n"
     ]
    },
    {
     "name": "stderr",
     "output_type": "stream",
     "text": [
      " 18%|█▊        | 90693/500001 [00:24<01:47, 3793.90it/s]"
     ]
    },
    {
     "name": "stdout",
     "output_type": "stream",
     "text": [
      "epoch: 90000, cost: 107.34795379638672, W: 0.5615598559379578, b: -36.065189361572266\n"
     ]
    },
    {
     "name": "stderr",
     "output_type": "stream",
     "text": [
      " 20%|██        | 100593/500001 [00:26<01:41, 3951.29it/s]"
     ]
    },
    {
     "name": "stdout",
     "output_type": "stream",
     "text": [
      "epoch: 100000, cost: 106.89253997802734, W: 0.5642423629760742, b: -36.484806060791016\n"
     ]
    },
    {
     "name": "stderr",
     "output_type": "stream",
     "text": [
      " 22%|██▏       | 110468/500001 [00:29<01:41, 3834.94it/s]"
     ]
    },
    {
     "name": "stdout",
     "output_type": "stream",
     "text": [
      "epoch: 110000, cost: 106.44129180908203, W: 0.5669253468513489, b: -36.904422760009766\n"
     ]
    },
    {
     "name": "stderr",
     "output_type": "stream",
     "text": [
      " 24%|██▍       | 120446/500001 [00:31<01:34, 4001.95it/s]"
     ]
    },
    {
     "name": "stdout",
     "output_type": "stream",
     "text": [
      "epoch: 120000, cost: 105.9942626953125, W: 0.5696073770523071, b: -37.324039459228516\n"
     ]
    },
    {
     "name": "stderr",
     "output_type": "stream",
     "text": [
      " 26%|██▌       | 130737/500001 [00:34<01:40, 3673.45it/s]"
     ]
    },
    {
     "name": "stdout",
     "output_type": "stream",
     "text": [
      "epoch: 130000, cost: 105.5514144897461, W: 0.5722898840904236, b: -37.743656158447266\n"
     ]
    },
    {
     "name": "stderr",
     "output_type": "stream",
     "text": [
      " 28%|██▊       | 140393/500001 [00:37<01:44, 3429.80it/s]"
     ]
    },
    {
     "name": "stdout",
     "output_type": "stream",
     "text": [
      "epoch: 140000, cost: 105.11276245117188, W: 0.5749719738960266, b: -38.163272857666016\n"
     ]
    },
    {
     "name": "stderr",
     "output_type": "stream",
     "text": [
      " 30%|███       | 150588/500001 [00:40<01:37, 3570.50it/s]"
     ]
    },
    {
     "name": "stdout",
     "output_type": "stream",
     "text": [
      "epoch: 150000, cost: 104.67831420898438, W: 0.5776548385620117, b: -38.582889556884766\n"
     ]
    },
    {
     "name": "stderr",
     "output_type": "stream",
     "text": [
      " 32%|███▏      | 160565/500001 [00:42<01:33, 3634.71it/s]"
     ]
    },
    {
     "name": "stdout",
     "output_type": "stream",
     "text": [
      "epoch: 160000, cost: 104.24805450439453, W: 0.5803374648094177, b: -39.002506256103516\n"
     ]
    },
    {
     "name": "stderr",
     "output_type": "stream",
     "text": [
      " 34%|███▍      | 170196/500001 [00:45<01:35, 3444.39it/s]"
     ]
    },
    {
     "name": "stdout",
     "output_type": "stream",
     "text": [
      "epoch: 170000, cost: 103.82198333740234, W: 0.5830198526382446, b: -39.422122955322266\n"
     ]
    },
    {
     "name": "stderr",
     "output_type": "stream",
     "text": [
      " 36%|███▌      | 180370/500001 [00:48<01:27, 3672.02it/s]"
     ]
    },
    {
     "name": "stdout",
     "output_type": "stream",
     "text": [
      "epoch: 180000, cost: 103.40375518798828, W: 0.5856791138648987, b: -39.83808898925781\n"
     ]
    },
    {
     "name": "stderr",
     "output_type": "stream",
     "text": [
      " 38%|███▊      | 190766/500001 [00:51<01:19, 3910.12it/s]"
     ]
    },
    {
     "name": "stdout",
     "output_type": "stream",
     "text": [
      "epoch: 190000, cost: 103.02383422851562, W: 0.5881181359291077, b: -40.21955871582031\n"
     ]
    },
    {
     "name": "stderr",
     "output_type": "stream",
     "text": [
      " 40%|████      | 200664/500001 [00:53<01:15, 3949.82it/s]"
     ]
    },
    {
     "name": "stdout",
     "output_type": "stream",
     "text": [
      "epoch: 200000, cost: 102.64738464355469, W: 0.590556800365448, b: -40.60102844238281\n"
     ]
    },
    {
     "name": "stderr",
     "output_type": "stream",
     "text": [
      " 42%|████▏     | 210720/500001 [00:56<01:11, 4034.36it/s]"
     ]
    },
    {
     "name": "stdout",
     "output_type": "stream",
     "text": [
      "epoch: 210000, cost: 102.27440643310547, W: 0.5929949879646301, b: -40.98249816894531\n"
     ]
    },
    {
     "name": "stderr",
     "output_type": "stream",
     "text": [
      " 44%|████▍     | 220800/500001 [00:58<01:09, 4016.23it/s]"
     ]
    },
    {
     "name": "stdout",
     "output_type": "stream",
     "text": [
      "epoch: 220000, cost: 101.90487670898438, W: 0.5954337120056152, b: -41.36396789550781\n"
     ]
    },
    {
     "name": "stderr",
     "output_type": "stream",
     "text": [
      " 46%|████▌     | 230676/500001 [01:01<01:08, 3940.51it/s]"
     ]
    },
    {
     "name": "stdout",
     "output_type": "stream",
     "text": [
      "epoch: 230000, cost: 101.53882598876953, W: 0.5978723764419556, b: -41.74543762207031\n"
     ]
    },
    {
     "name": "stderr",
     "output_type": "stream",
     "text": [
      " 48%|████▊     | 240662/500001 [01:03<01:05, 3935.13it/s]"
     ]
    },
    {
     "name": "stdout",
     "output_type": "stream",
     "text": [
      "epoch: 240000, cost: 101.17622375488281, W: 0.6003109216690063, b: -42.12690734863281\n"
     ]
    },
    {
     "name": "stderr",
     "output_type": "stream",
     "text": [
      " 50%|█████     | 250716/500001 [01:06<01:02, 4016.89it/s]"
     ]
    },
    {
     "name": "stdout",
     "output_type": "stream",
     "text": [
      "epoch: 250000, cost: 100.81710815429688, W: 0.6027495265007019, b: -42.50837707519531\n"
     ]
    },
    {
     "name": "stderr",
     "output_type": "stream",
     "text": [
      " 52%|█████▏    | 260777/500001 [01:08<00:59, 4012.72it/s]"
     ]
    },
    {
     "name": "stdout",
     "output_type": "stream",
     "text": [
      "epoch: 260000, cost: 100.4614486694336, W: 0.605188250541687, b: -42.88984680175781\n"
     ]
    },
    {
     "name": "stderr",
     "output_type": "stream",
     "text": [
      " 54%|█████▍    | 270770/500001 [01:11<00:57, 3997.42it/s]"
     ]
    },
    {
     "name": "stdout",
     "output_type": "stream",
     "text": [
      "epoch: 270000, cost: 100.1092529296875, W: 0.6076265573501587, b: -43.27131652832031\n"
     ]
    },
    {
     "name": "stderr",
     "output_type": "stream",
     "text": [
      " 56%|█████▌    | 280790/500001 [01:13<00:54, 3997.73it/s]"
     ]
    },
    {
     "name": "stdout",
     "output_type": "stream",
     "text": [
      "epoch: 280000, cost: 99.7605209350586, W: 0.6100651621818542, b: -43.65278625488281\n"
     ]
    },
    {
     "name": "stderr",
     "output_type": "stream",
     "text": [
      " 58%|█████▊    | 290815/500001 [01:16<00:52, 3993.55it/s]"
     ]
    },
    {
     "name": "stdout",
     "output_type": "stream",
     "text": [
      "epoch: 290000, cost: 99.43597412109375, W: 0.6123571991920471, b: -44.01126480102539\n"
     ]
    },
    {
     "name": "stderr",
     "output_type": "stream",
     "text": [
      " 60%|██████    | 300645/500001 [01:18<00:53, 3712.55it/s]"
     ]
    },
    {
     "name": "stdout",
     "output_type": "stream",
     "text": [
      "epoch: 300000, cost: 99.12800598144531, W: 0.6145520806312561, b: -44.35458755493164\n"
     ]
    },
    {
     "name": "stderr",
     "output_type": "stream",
     "text": [
      " 62%|██████▏   | 310718/500001 [01:21<00:48, 3871.26it/s]"
     ]
    },
    {
     "name": "stdout",
     "output_type": "stream",
     "text": [
      "epoch: 310000, cost: 98.8228530883789, W: 0.6167469620704651, b: -44.69791030883789\n"
     ]
    },
    {
     "name": "stderr",
     "output_type": "stream",
     "text": [
      " 64%|██████▍   | 320419/500001 [01:24<00:47, 3798.99it/s]"
     ]
    },
    {
     "name": "stdout",
     "output_type": "stream",
     "text": [
      "epoch: 320000, cost: 98.52051544189453, W: 0.6189412474632263, b: -45.04123306274414\n"
     ]
    },
    {
     "name": "stderr",
     "output_type": "stream",
     "text": [
      " 66%|██████▌   | 330640/500001 [01:26<00:44, 3801.30it/s]"
     ]
    },
    {
     "name": "stdout",
     "output_type": "stream",
     "text": [
      "epoch: 330000, cost: 98.2209701538086, W: 0.6211361289024353, b: -45.38455581665039\n"
     ]
    },
    {
     "name": "stderr",
     "output_type": "stream",
     "text": [
      " 68%|██████▊   | 340801/500001 [01:29<00:40, 3942.07it/s]"
     ]
    },
    {
     "name": "stdout",
     "output_type": "stream",
     "text": [
      "epoch: 340000, cost: 97.92424011230469, W: 0.6233310699462891, b: -45.72787857055664\n"
     ]
    },
    {
     "name": "stderr",
     "output_type": "stream",
     "text": [
      " 70%|███████   | 350544/500001 [01:31<00:36, 4099.58it/s]"
     ]
    },
    {
     "name": "stdout",
     "output_type": "stream",
     "text": [
      "epoch: 350000, cost: 97.63031768798828, W: 0.6255258917808533, b: -46.07120132446289\n"
     ]
    },
    {
     "name": "stderr",
     "output_type": "stream",
     "text": [
      " 72%|███████▏  | 360691/500001 [01:34<00:34, 3988.30it/s]"
     ]
    },
    {
     "name": "stdout",
     "output_type": "stream",
     "text": [
      "epoch: 360000, cost: 97.33919525146484, W: 0.6277206540107727, b: -46.41452407836914\n"
     ]
    },
    {
     "name": "stderr",
     "output_type": "stream",
     "text": [
      " 74%|███████▍  | 370521/500001 [01:36<00:33, 3870.63it/s]"
     ]
    },
    {
     "name": "stdout",
     "output_type": "stream",
     "text": [
      "epoch: 370000, cost: 97.05088806152344, W: 0.6299153566360474, b: -46.75784683227539\n"
     ]
    },
    {
     "name": "stderr",
     "output_type": "stream",
     "text": [
      " 76%|███████▌  | 380601/500001 [01:39<00:30, 3927.48it/s]"
     ]
    },
    {
     "name": "stdout",
     "output_type": "stream",
     "text": [
      "epoch: 380000, cost: 96.765380859375, W: 0.6321102380752563, b: -47.10116958618164\n"
     ]
    },
    {
     "name": "stderr",
     "output_type": "stream",
     "text": [
      " 78%|███████▊  | 390780/500001 [01:42<00:27, 3980.26it/s]"
     ]
    },
    {
     "name": "stdout",
     "output_type": "stream",
     "text": [
      "epoch: 390000, cost: 96.48268127441406, W: 0.634304940700531, b: -47.44449234008789\n"
     ]
    },
    {
     "name": "stderr",
     "output_type": "stream",
     "text": [
      " 80%|████████  | 400466/500001 [01:44<00:25, 3972.34it/s]"
     ]
    },
    {
     "name": "stdout",
     "output_type": "stream",
     "text": [
      "epoch: 400000, cost: 96.20278930664062, W: 0.63649982213974, b: -47.78781509399414\n"
     ]
    },
    {
     "name": "stderr",
     "output_type": "stream",
     "text": [
      " 82%|████████▏ | 410764/500001 [01:47<00:23, 3874.52it/s]"
     ]
    },
    {
     "name": "stdout",
     "output_type": "stream",
     "text": [
      "epoch: 410000, cost: 95.95439147949219, W: 0.638466477394104, b: -48.095428466796875\n"
     ]
    },
    {
     "name": "stderr",
     "output_type": "stream",
     "text": [
      " 84%|████████▍ | 420492/500001 [01:49<00:23, 3329.60it/s]"
     ]
    },
    {
     "name": "stdout",
     "output_type": "stream",
     "text": [
      "epoch: 420000, cost: 95.71019744873047, W: 0.6404171586036682, b: -48.400604248046875\n"
     ]
    },
    {
     "name": "stderr",
     "output_type": "stream",
     "text": [
      " 86%|████████▌ | 430357/500001 [01:52<00:19, 3506.30it/s]"
     ]
    },
    {
     "name": "stdout",
     "output_type": "stream",
     "text": [
      "epoch: 430000, cost: 95.46821594238281, W: 0.6423680782318115, b: -48.705780029296875\n"
     ]
    },
    {
     "name": "stderr",
     "output_type": "stream",
     "text": [
      " 88%|████████▊ | 440467/500001 [01:55<00:16, 3705.61it/s]"
     ]
    },
    {
     "name": "stdout",
     "output_type": "stream",
     "text": [
      "epoch: 440000, cost: 95.22845458984375, W: 0.6443191170692444, b: -49.010955810546875\n"
     ]
    },
    {
     "name": "stderr",
     "output_type": "stream",
     "text": [
      " 90%|█████████ | 450481/500001 [01:57<00:12, 3957.77it/s]"
     ]
    },
    {
     "name": "stdout",
     "output_type": "stream",
     "text": [
      "epoch: 450000, cost: 94.99089813232422, W: 0.6462699174880981, b: -49.316131591796875\n"
     ]
    },
    {
     "name": "stderr",
     "output_type": "stream",
     "text": [
      " 92%|█████████▏| 460691/500001 [02:00<00:10, 3923.45it/s]"
     ]
    },
    {
     "name": "stdout",
     "output_type": "stream",
     "text": [
      "epoch: 460000, cost: 94.75558471679688, W: 0.648220956325531, b: -49.621307373046875\n"
     ]
    },
    {
     "name": "stderr",
     "output_type": "stream",
     "text": [
      " 94%|█████████▍| 470509/500001 [02:02<00:07, 3993.92it/s]"
     ]
    },
    {
     "name": "stdout",
     "output_type": "stream",
     "text": [
      "epoch: 470000, cost: 94.52247619628906, W: 0.6501717567443848, b: -49.926483154296875\n"
     ]
    },
    {
     "name": "stderr",
     "output_type": "stream",
     "text": [
      " 96%|█████████▌| 480767/500001 [02:05<00:04, 3994.53it/s]"
     ]
    },
    {
     "name": "stdout",
     "output_type": "stream",
     "text": [
      "epoch: 480000, cost: 94.29158020019531, W: 0.6521227955818176, b: -50.231658935546875\n"
     ]
    },
    {
     "name": "stderr",
     "output_type": "stream",
     "text": [
      " 98%|█████████▊| 490612/500001 [02:07<00:02, 4031.30it/s]"
     ]
    },
    {
     "name": "stdout",
     "output_type": "stream",
     "text": [
      "epoch: 490000, cost: 94.06291198730469, W: 0.6540735960006714, b: -50.536834716796875\n"
     ]
    },
    {
     "name": "stderr",
     "output_type": "stream",
     "text": [
      "100%|██████████| 500001/500001 [02:10<00:00, 3833.97it/s]"
     ]
    },
    {
     "name": "stdout",
     "output_type": "stream",
     "text": [
      "epoch: 500000, cost: 93.8364486694336, W: 0.6560243368148804, b: -50.842010498046875\n"
     ]
    },
    {
     "name": "stderr",
     "output_type": "stream",
     "text": [
      "\n"
     ]
    }
   ],
   "source": [
    "for epoch in tqdm(range(500001)): \n",
    "    W.requires_grad_(True) \n",
    "    b.requires_grad_(True)\n",
    "    \n",
    "    hypothesis = torch.mm(x, W) + b\n",
    "    cost = torch.mean((hypothesis - y) ** 2)\n",
    "    cost.backward()\n",
    "    \n",
    "    with torch.no_grad() as grd:\n",
    "        W = W - lr * W.grad \n",
    "        b = b - lr * b.grad\n",
    "     \n",
    "    if epoch % 10000 == 0:\n",
    "        print(f'epoch: {epoch}, cost: {cost.item()}, W: {W.squeeze()}, b: {b.squeeze()}')"
   ]
  },
  {
   "cell_type": "markdown",
   "metadata": {},
   "source": [
    "# Task 5. (20 점) Matplotlib을 사용하여 좌표평면상에 입력값(키, 몸무게)과 구한 직선을 그려보기\n",
    "\n",
    "## Task 5-1. (10 점) 입력값(키, 몸무게)를 산포도로 그리기 (x축=키, y축=몸무게)\n",
    "\n",
    "## Task 5-2. (10 점) w와 b값을 이용하여 직선 그리기 (산포도와 일치하는지 확인하여 학습이 잘 되었는지 확인하기 위함)"
   ]
  },
  {
   "cell_type": "code",
   "execution_count": 467,
   "metadata": {},
   "outputs": [],
   "source": [
    "import matplotlib.pyplot as plt\n",
    "import seaborn as sns\n",
    "\n",
    "%matplotlib inline\n",
    "sns.set()"
   ]
  },
  {
   "cell_type": "code",
   "execution_count": 468,
   "metadata": {},
   "outputs": [],
   "source": [
    "result = []\n",
    "\n",
    "with torch.no_grad() as grd:\n",
    "    for x_ in x:\n",
    "        W.requires_grad_(False) \n",
    "        b.requires_grad_(False)\n",
    "    \n",
    "        result.append((x_ @ W + b).squeeze(-1).item())"
   ]
  },
  {
   "cell_type": "code",
   "execution_count": 469,
   "metadata": {},
   "outputs": [
    {
     "data": {
      "text/plain": [
       "<matplotlib.legend.Legend at 0x145d31f50>"
      ]
     },
     "execution_count": 469,
     "metadata": {},
     "output_type": "execute_result"
    },
    {
     "data": {
      "image/png": "[encoded data removed]",
      "text/plain": [
       "<Figure size 720x720 with 1 Axes>"
      ]
     },
     "metadata": {},
     "output_type": "display_data"
    }
   ],
   "source": [
    "plt.figure(figsize=(10, 10))\n",
    "plt.title('Task 5')\n",
    "plt.xlabel('Height')\n",
    "plt.ylabel('Weight')\n",
    "plt.scatter(x, y, s=5, edgecolor='b', label='y')\n",
    "plt.plot(x, result, c='springgreen', label='y = xw + b')\n",
    "plt.legend(loc='best', prop={'size': 15})"
   ]
  }
 ],
 "metadata": {
  "kernelspec": {
   "display_name": "Python 3",
   "language": "python",
   "name": "python3"
  },
  "language_info": {
   "codemirror_mode": {
    "name": "ipython",
    "version": 3
   },
   "file_extension": ".py",
   "mimetype": "text/x-python",
   "name": "python",
   "nbconvert_exporter": "python",
   "pygments_lexer": "ipython3",
   "version": "3.7.9"
  }
 },
 "nbformat": 4,
 "nbformat_minor": 4
}
